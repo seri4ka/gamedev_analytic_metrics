{
 "cells": [
  {
   "cell_type": "code",
   "execution_count": 5,
   "metadata": {},
   "outputs": [],
   "source": [
    "import pandas as pd"
   ]
  },
  {
   "cell_type": "code",
   "execution_count": 6,
   "metadata": {},
   "outputs": [],
   "source": [
    "# Функция для расчета Average Number of Sessions\n",
    "def calculate_average_sessions(data):\n",
    "    \"\"\"Вычисление Average Number of Sessions.\"\"\"\n",
    "    total_sessions = data[\"number_of_sessions\"].sum()\n",
    "    user_count = len(data)\n",
    "    if user_count == 0:\n",
    "        raise ValueError(\"Количество пользователей не может быть равно нулю.\")\n",
    "    return total_sessions / user_count"
   ]
  },
  {
   "cell_type": "code",
   "execution_count": 7,
   "metadata": {},
   "outputs": [],
   "source": [
    "# Загрузка данных\n",
    "data_path = \"../data/average_sessions_data.csv\"\n",
    "data = pd.read_csv(data_path)"
   ]
  },
  {
   "cell_type": "code",
   "execution_count": 11,
   "metadata": {},
   "outputs": [
    {
     "data": {
      "text/plain": [
       "<Axes: >"
      ]
     },
     "execution_count": 11,
     "metadata": {},
     "output_type": "execute_result"
    },
    {
     "data": {
      "image/png": "[encoded data removed]",
      "text/plain": [
       "<Figure size 640x480 with 1 Axes>"
      ]
     },
     "metadata": {},
     "output_type": "display_data"
    }
   ],
   "source": [
    "data['number_of_sessions'].hist(bins=30)"
   ]
  },
  {
   "cell_type": "code",
   "execution_count": 8,
   "metadata": {},
   "outputs": [
    {
     "name": "stdout",
     "output_type": "stream",
     "text": [
      "Среднее количество сессий на пользователя: 15.06\n"
     ]
    }
   ],
   "source": [
    "# Расчёт Average Number of Sessions\n",
    "average_sessions = calculate_average_sessions(data)\n",
    "\n",
    "# Вывод результата\n",
    "print(f\"Среднее количество сессий на пользователя: {average_sessions:.2f}\")"
   ]
  }
 ],
 "metadata": {
  "kernelspec": {
   "display_name": "Python 3",
   "language": "python",
   "name": "python3"
  },
  "language_info": {
   "codemirror_mode": {
    "name": "ipython",
    "version": 3
   },
   "file_extension": ".py",
   "mimetype": "text/x-python",
   "name": "python",
   "nbconvert_exporter": "python",
   "pygments_lexer": "ipython3",
   "version": "3.11.0"
  }
 },
 "nbformat": 4,
 "nbformat_minor": 2
}
