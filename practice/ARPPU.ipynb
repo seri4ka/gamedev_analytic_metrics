{
 "cells": [
  {
   "cell_type": "code",
   "execution_count": 4,
   "metadata": {},
   "outputs": [],
   "source": [
    "import pandas as pd"
   ]
  },
  {
   "cell_type": "code",
   "execution_count": 5,
   "metadata": {},
   "outputs": [],
   "source": [
    "# Функция для расчета ARPPU\n",
    "def calculate_arppu(data):\n",
    "    \"\"\"Вычисление ARPPU.\"\"\"\n",
    "    total_revenue = data[\"payment_amount\"].sum()\n",
    "    paying_users = len(data)\n",
    "    if paying_users == 0:\n",
    "        raise ValueError(\"Количество платящих пользователей не может быть равно нулю.\")\n",
    "    return total_revenue / paying_users"
   ]
  },
  {
   "cell_type": "code",
   "execution_count": 6,
   "metadata": {},
   "outputs": [],
   "source": [
    "# Загрузка данных\n",
    "data_path = \"../data/arppu_data.csv\"\n",
    "data = pd.read_csv(data_path)"
   ]
  },
  {
   "cell_type": "code",
   "execution_count": 7,
   "metadata": {},
   "outputs": [
    {
     "name": "stdout",
     "output_type": "stream",
     "text": [
      "Средний доход на платящего пользователя (ARPPU): 51.84\n"
     ]
    }
   ],
   "source": [
    "# Расчёт ARPPU\n",
    "arppu = calculate_arppu(data)\n",
    "\n",
    "# Вывод результата\n",
    "print(f\"Средний доход на платящего пользователя (ARPPU): {arppu:.2f}\")"
   ]
  }
 ],
 "metadata": {
  "kernelspec": {
   "display_name": "Python 3",
   "language": "python",
   "name": "python3"
  },
  "language_info": {
   "codemirror_mode": {
    "name": "ipython",
    "version": 3
   },
   "file_extension": ".py",
   "mimetype": "text/x-python",
   "name": "python",
   "nbconvert_exporter": "python",
   "pygments_lexer": "ipython3",
   "version": "3.11.0"
  }
 },
 "nbformat": 4,
 "nbformat_minor": 2
}
